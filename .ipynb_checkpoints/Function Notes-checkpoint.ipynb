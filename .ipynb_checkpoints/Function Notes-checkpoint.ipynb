{
 "cells": [
  {
   "cell_type": "code",
   "execution_count": 3,
   "id": "714a34f5-2c8c-4426-bca1-4fa91389a7ef",
   "metadata": {},
   "outputs": [
    {
     "data": {
      "text/plain": [
       "int"
      ]
     },
     "execution_count": 3,
     "metadata": {},
     "output_type": "execute_result"
    }
   ],
   "source": [
    "type(1) #type function tells us the type of the data"
   ]
  },
  {
   "cell_type": "code",
   "execution_count": 5,
   "id": "1194d8b0-5406-4302-adbb-60cddc6232de",
   "metadata": {},
   "outputs": [
    {
     "data": {
      "text/plain": [
       "4"
      ]
     },
     "execution_count": 5,
     "metadata": {},
     "output_type": "execute_result"
    }
   ],
   "source": [
    "2+2\n"
   ]
  },
  {
   "cell_type": "code",
   "execution_count": 11,
   "id": "10627883-d7e6-44f9-a48d-274dfd90e370",
   "metadata": {},
   "outputs": [
    {
     "data": {
      "text/plain": [
       "24"
      ]
     },
     "execution_count": 11,
     "metadata": {},
     "output_type": "execute_result"
    }
   ],
   "source": [
    "type(\"24\")\n",
    "int(\"24\") #we can call the data type to convert data to a different type"
   ]
  },
  {
   "cell_type": "code",
   "execution_count": 13,
   "id": "a8b75df0-ee52-49e4-99e2-be26b2fb6a2b",
   "metadata": {},
   "outputs": [
    {
     "data": {
      "text/plain": [
       "42.0"
      ]
     },
     "execution_count": 13,
     "metadata": {},
     "output_type": "execute_result"
    }
   ],
   "source": [
    "float(42) #can make int into float, useful"
   ]
  },
  {
   "cell_type": "code",
   "execution_count": 15,
   "id": "d450a04a-28ea-4531-aa26-fe3d4e84714b",
   "metadata": {},
   "outputs": [
    {
     "data": {
      "text/plain": [
       "'python is awesome'"
      ]
     },
     "execution_count": 15,
     "metadata": {},
     "output_type": "execute_result"
    }
   ],
   "source": [
    "#Add strings\n",
    "\"python\" + \" \" + \"is\" + \" \" + \"awesome\"\n"
   ]
  },
  {
   "cell_type": "code",
   "execution_count": 17,
   "id": "d5c20cd1-7187-4ba9-86d8-84777e4b1dff",
   "metadata": {},
   "outputs": [
    {
     "name": "stdout",
     "output_type": "stream",
     "text": [
      "2\n"
     ]
    }
   ],
   "source": [
    "#you can set multiple variables at once\n",
    "m, n, p = 2, 4, 6\n",
    "print(m)"
   ]
  },
  {
   "cell_type": "code",
   "execution_count": 19,
   "id": "f60a9f36-e76f-40f2-af1a-ef94ada524a6",
   "metadata": {},
   "outputs": [
    {
     "name": "stdout",
     "output_type": "stream",
     "text": [
      "10\n",
      "10\n"
     ]
    }
   ],
   "source": [
    "# you can set variables to the same value\n",
    "a = b = c = 10\n",
    "print(a)\n",
    "print(b)\n"
   ]
  },
  {
   "cell_type": "code",
   "execution_count": 21,
   "id": "b9dc6cff-2164-4539-ab75-f2fd16cbe617",
   "metadata": {},
   "outputs": [
    {
     "name": "stdout",
     "output_type": "stream",
     "text": [
      "10\n",
      "5\n"
     ]
    }
   ],
   "source": [
    "print(a)\n",
    "a = 5 #this overwrites ur previous variable\n",
    "print(a) "
   ]
  },
  {
   "cell_type": "code",
   "execution_count": 23,
   "id": "0ea49351-3b87-4618-b75c-382e84b50202",
   "metadata": {},
   "outputs": [
    {
     "data": {
      "text/plain": [
       "' Hello Caitlin!'"
      ]
     },
     "execution_count": 23,
     "metadata": {},
     "output_type": "execute_result"
    }
   ],
   "source": [
    "# FUNCTIONSSSS\n",
    "# making a new function: def function(argument):\n",
    "def greet(name):\n",
    "    talk = \" Hello\" + \" \" + name + \"!\"\n",
    "    return talk\n",
    "\n",
    "greet(\"Caitlin\")"
   ]
  },
  {
   "cell_type": "code",
   "execution_count": 25,
   "id": "3a2e2710-9b37-455b-8528-3939034a09ee",
   "metadata": {},
   "outputs": [
    {
     "data": {
      "text/plain": [
       "' Hello Saahit!'"
      ]
     },
     "execution_count": 25,
     "metadata": {},
     "output_type": "execute_result"
    }
   ],
   "source": [
    "greet(\"Saahit\")\n"
   ]
  },
  {
   "cell_type": "code",
   "execution_count": 31,
   "id": "737df8af-8339-44b9-b4ac-c2b3d9fa714d",
   "metadata": {},
   "outputs": [
    {
     "data": {
      "text/plain": [
       "\"Dex's favorite color is purple.\""
      ]
     },
     "execution_count": 31,
     "metadata": {},
     "output_type": "execute_result"
    }
   ],
   "source": [
    "#Functions can have default arguments\n",
    "def fav_color(color, person=\"Brianna\"):\n",
    "    sentence = person + \"'s favorite color is \" + color + \".\"\n",
    "    return sentence\n",
    "\n",
    "fav_color(color=\"purple\") #only one argument needed\n",
    "fav_color(color=\"purple\", person=\"Dex\") # can override default"
   ]
  },
  {
   "cell_type": "code",
   "execution_count": 35,
   "id": "dca4e3d5-bac7-4c2f-b973-0c57fd46cf06",
   "metadata": {
    "scrolled": true
   },
   "outputs": [
    {
     "name": "stdout",
     "output_type": "stream",
     "text": [
      "6.0\n"
     ]
    }
   ],
   "source": [
    "# practice good coding skills\n",
    "def area_of_triangle(base, height): #clear names so other people can read\n",
    "    #commputes the area of a triangle\n",
    "    # area = 1/2(base * height)\n",
    "\n",
    "    area = (base * height) / 2\n",
    "    return area\n",
    "\n",
    "my_base = 3\n",
    "my_height = 4\n",
    "my_area = area_of_triangle(my_base, my_height)\n",
    "print(my_area)\n"
   ]
  },
  {
   "cell_type": "code",
   "execution_count": 39,
   "id": "4d68cede-f49d-4c2e-99c3-cf5cd9305e34",
   "metadata": {},
   "outputs": [
    {
     "name": "stdout",
     "output_type": "stream",
     "text": [
      "10\n",
      "10\n"
     ]
    }
   ],
   "source": [
    "# Global vs. local variables\n",
    "x = 10\n",
    "\n",
    "def display_variable1():\n",
    "    print(x)\n",
    "\n",
    "display_variable1()\n",
    "print(x)\n",
    "#works everywhere, in and out of the function"
   ]
  },
  {
   "cell_type": "code",
   "execution_count": 41,
   "id": "68851b71-2ef5-4987-8df0-03ced7cbafd9",
   "metadata": {},
   "outputs": [
    {
     "name": "stdout",
     "output_type": "stream",
     "text": [
      "5\n"
     ]
    }
   ],
   "source": [
    "def display_variable2():\n",
    "    y = 5\n",
    "    print(y)\n",
    "\n",
    "display_variable2()\n",
    "#print(y) This won't work because the variable only exists in the function"
   ]
  },
  {
   "cell_type": "code",
   "execution_count": 43,
   "id": "1accb505-05e1-424e-849d-a4ba753017ac",
   "metadata": {},
   "outputs": [
    {
     "data": {
      "text/plain": [
       "6"
      ]
     },
     "execution_count": 43,
     "metadata": {},
     "output_type": "execute_result"
    }
   ],
   "source": [
    "3+3\n"
   ]
  },
  {
   "cell_type": "code",
   "execution_count": 47,
   "id": "2e07e2da-a313-495f-86e2-e8928a35b862",
   "metadata": {},
   "outputs": [
    {
     "name": "stdout",
     "output_type": "stream",
     "text": [
      "6\n",
      "9\n"
     ]
    }
   ],
   "source": [
    "x = 3\n",
    "x += 3 #manipulates x to have 3 added onto it\n",
    "y = x + 3\n",
    "print(x)\n",
    "print(y)"
   ]
  },
  {
   "cell_type": "code",
   "execution_count": null,
   "id": "50913a3e-1307-44a5-8f30-be6241a25c7f",
   "metadata": {},
   "outputs": [],
   "source": []
  }
 ],
 "metadata": {
  "kernelspec": {
   "display_name": "Python 3 (ipykernel)",
   "language": "python",
   "name": "python3"
  },
  "language_info": {
   "codemirror_mode": {
    "name": "ipython",
    "version": 3
   },
   "file_extension": ".py",
   "mimetype": "text/x-python",
   "name": "python",
   "nbconvert_exporter": "python",
   "pygments_lexer": "ipython3",
   "version": "3.12.4"
  }
 },
 "nbformat": 4,
 "nbformat_minor": 5
}
