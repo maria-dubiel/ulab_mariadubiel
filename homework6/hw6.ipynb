{
 "cells": [
  {
   "cell_type": "code",
   "execution_count": null,
   "id": "98c430e9-a1e0-4e3b-a88d-0931896063fe",
   "metadata": {},
   "outputs": [],
   "source": []
  },
  {
   "cell_type": "markdown",
   "id": "37b4ab1b-57d7-4139-bc1e-a263ac950566",
   "metadata": {},
   "source": [
    "# HW 6 - Iterables\n",
    "ULAB - Physics and Astronomy Division \\\n",
    "Due **Wednesday, October 30th, 2024 at 11:59pm** on Gradescope\n",
    "\n",
    "### REMINDER: Once you are done with this homework, make sure to include a screenshot of you pushing this notebook inside of your homework6 branch. Make sure to include this screenshot in your branch before submitting to Gradescope!\n",
    "\n",
    "### If there is no screenshot, then you will recieve a zero! \n",
    "\n",
    "General Tip (so you don't get silly points taken off):\n",
    "- Make sure **each function** follows good coding practices (i.e. a comment, detailed names, different steps on each line, etc)."
   ]
  },
  {
   "cell_type": "markdown",
   "id": "8dc7e46b-1e8e-486c-a2e9-d615c687028b",
   "metadata": {},
   "source": [
    "# 1 Lists\n",
    "\n",
    "## 1.1 List Slicing and Striding\n",
    "Write a **function** that takes in a list of integers and returns:\n",
    "\n",
    "- the first 5 elements\n",
    "- the last 5 elements\n",
    "- every 2nd element in the list\n",
    "- the list in reverse order.\n",
    "\n",
    "Use the test case below, along with two other ones (that you make-up):\n",
    "\n",
    "```\n",
    "list = [1, 2, 3, 4, 5, 6, 7, 8, 9, 10, 11, 12, 14, 15, 16, 17, 18, 19, 20]\n",
    "```"
   ]
  },
  {
   "cell_type": "code",
   "execution_count": 41,
   "id": "08dabd73-3dbc-4aab-843a-d4b81102835d",
   "metadata": {},
   "outputs": [
    {
     "name": "stdout",
     "output_type": "stream",
     "text": [
      "case 1: \n",
      "([1, 2, 3, 4, 5], [16, 17, 18, 19, 20], [1, 3, 5, 7, 9, 11, 14, 16, 18, 20], [20, 19, 18, 17, 16, 15, 14, 12, 11, 10, 9, 8, 7, 6, 5, 4, 3, 2, 1])\n",
      "case 2: \n",
      "([1, 3, 5, 7, 9], [11, 13, 15, 17, 19], [1, 5, 9, 13, 17], [19, 17, 15, 13, 11, 9, 7, 5, 3, 1])\n",
      "case 3: \n",
      "([10, 20, 30, 40, 50], [60, 70, 80, 90, 100], [10, 30, 50, 70, 90], [100, 90, 80, 70, 60, 50, 40, 30, 20, 10])\n"
     ]
    }
   ],
   "source": [
    "def first5_last5_every2nd_reverse(list): #This function return the first 5 elements, last five elements, every 2nd elemnet, and the reverse order of a list\n",
    "    return(list[0:5], list[-5:], list[::2], list[::-1]) #this is the indexing for each of the required returns\n",
    "\n",
    "#test case 1\n",
    "list1 = [1, 2, 3, 4, 5, 6, 7, 8, 9, 10, 11, 12, 14, 15, 16, 17, 18, 19, 20]\n",
    "print(\"case 1: \")\n",
    "print(first5_last5_every2nd_reverse(list1))\n",
    "\n",
    "#test case 2\n",
    "list2 = [1, 3, 5, 7, 9, 11, 13, 15, 17, 19]\n",
    "print(\"case 2: \")\n",
    "print(first5_last5_every2nd_reverse(list2))\n",
    "\n",
    "#test case 3\n",
    "list3 = [10, 20, 30, 40, 50, 60, 70, 80, 90, 100]\n",
    "print(\"case 3: \")\n",
    "print(first5_last5_every2nd_reverse(list3))\n",
    "\n"
   ]
  },
  {
   "cell_type": "markdown",
   "id": "92c77920-20fc-455e-bf52-10b5a518ed2d",
   "metadata": {},
   "source": [
    "## 1.2 Iterating Over Lists with For Loops\n",
    "Write a **function** that takes in a list, with a **for** loop to return: \n",
    "- the square of each number in the list\n",
    "- the cube of each even number in the list\n",
    "\n",
    "Use the test case below, along with two other ones (that you make-up):\n",
    "\n",
    "```\n",
    "list = [1, 2, 3, 4, 5, 6]\n",
    "```"
   ]
  },
  {
   "cell_type": "code",
   "execution_count": 5,
   "id": "5054c807-a247-4159-9ce1-43020bcc3000",
   "metadata": {},
   "outputs": [
    {
     "name": "stdout",
     "output_type": "stream",
     "text": [
      "test case 1: \n",
      "([1, 4, 9, 16, 25, 36], [8, 64, 216])\n",
      "test case 2: \n",
      "([4, 81, 121, 196, 3025, 3600], [8, 2744, 216000])\n",
      "test case 3: \n",
      "([100, 400, 900, 1600, 2500, 3600], [1000, 8000, 27000, 64000, 125000, 216000])\n"
     ]
    }
   ],
   "source": [
    "def squareofeach_cubeofevens(list_numbers):\n",
    "#returns all numbers squared and even numbers cubed\n",
    "    square = []\n",
    "    cube = []\n",
    "    for i in list_numbers:\n",
    "        square.append(i**2) #the append will add to our previously empty lists(square and cube)\n",
    "        if i % 2 == 0:\n",
    "            cube.append(i**3)\n",
    "    return square, cube\n",
    "\n",
    "#test case 1\n",
    "list1 = [1, 2, 3, 4, 5, 6]\n",
    "print(\"test case 1: \")\n",
    "print(squareofeach_cubeofevens(list1))\n",
    "\n",
    "#test case 2\n",
    "list2 = [2, 9, 11, 14, 55, 60]\n",
    "print(\"test case 2: \")\n",
    "print(squareofeach_cubeofevens(list2))\n",
    "\n",
    "#test case 3\n",
    "list3 = [10, 20, 30, 40, 50, 60]\n",
    "print(\"test case 3: \")\n",
    "print(squareofeach_cubeofevens(list3))\n"
   ]
  },
  {
   "cell_type": "markdown",
   "id": "e2e075da-c004-400d-b796-5435e096816d",
   "metadata": {},
   "source": [
    "# 2 Dictionaries\n",
    "We have not fully covered **dictionaries** in class, but a **dictionary** is a collection of key-value pairs. Each key is unique and is associated with a specific value. Like a real dictionary! \n",
    "\n",
    "You can create a dictionary by placing key-value pairs inside of curly brackets `{}` with a `:` separating the key from the value. \n",
    "\n",
    "Run the cell below for an example:"
   ]
  },
  {
   "cell_type": "code",
   "execution_count": 9,
   "id": "dbdb0f41-4f57-4524-ab51-ff1fc502bdfc",
   "metadata": {},
   "outputs": [
    {
     "name": "stdout",
     "output_type": "stream",
     "text": [
      "{'Mercury': 0.39, 'Venus': 0.72, 'Earth': 1.0, 'Mars': 1.52, 'Jupiter': 5.2, 'Saturn': 9.58, 'Uranus': 19.22, 'Neptune': 30.05}\n"
     ]
    }
   ],
   "source": [
    "# A dictionary that contains some data about the planets in our solar system\n",
    "planet_data = {\n",
    "    \"Mercury\": 0.39, \n",
    "    \"Venus\": 0.72,\n",
    "    \"Earth\": 1.00, # distance from the Sun in AU\n",
    "    \"Mars\": 1.52,\n",
    "    \"Jupiter\": 5.20,\n",
    "    \"Saturn\": 9.58,\n",
    "    \"Uranus\": 19.22,\n",
    "    \"Neptune\": 30.05\n",
    "}   \n",
    "\n",
    "print(planet_data) # print the dictonary"
   ]
  },
  {
   "cell_type": "markdown",
   "id": "886c93f4-0027-4969-ba67-cc12eca04c9c",
   "metadata": {},
   "source": [
    "## 2.1 Looping through a dictionary\n",
    "Write a function that takes in the `planet_data` dictionary and uses a `for` loop to print the names of each of the planets and its distance from the sun."
   ]
  },
  {
   "cell_type": "code",
   "execution_count": 11,
   "id": "a3ab065a-42f5-4aa0-8e0f-38e87c583464",
   "metadata": {},
   "outputs": [
    {
     "name": "stdout",
     "output_type": "stream",
     "text": [
      "Mercury is 0.39 from the Sun\n",
      "Venus is 0.72 from the Sun\n",
      "Earth is 1.0 from the Sun\n",
      "Mars is 1.52 from the Sun\n",
      "Jupiter is 5.2 from the Sun\n",
      "Saturn is 9.58 from the Sun\n",
      "Uranus is 19.22 from the Sun\n",
      "Neptune is 30.05 from the Sun\n"
     ]
    }
   ],
   "source": [
    "def names_and_distances_of_planets(planet_data):\n",
    "    #this will return the names of planets and their distance away from the sun\n",
    "    for i, distance in planet_data.items(): #i, distance is our key value pair\n",
    "        print(f\"{i} is {distance} from the Sun\")\n",
    "\n",
    "names_and_distances_of_planets(planet_data) #this is a test of the function with the data we were given"
   ]
  },
  {
   "cell_type": "markdown",
   "id": "2b38b6fb-ce68-4f20-a8a1-ba241e8db53e",
   "metadata": {},
   "source": [
    "## 2.2 Dictionaries and Conditionals\n",
    "Write a function that uses a while loop to print all the planets that are a minimum distance of 5 AU from the Sun. "
   ]
  },
  {
   "cell_type": "code",
   "execution_count": 13,
   "id": "6e07cf13-efba-4a75-ad75-0428dc31108d",
   "metadata": {},
   "outputs": [
    {
     "data": {
      "text/plain": [
       "['Jupiter', 'Saturn', 'Uranus', 'Neptune']"
      ]
     },
     "execution_count": 13,
     "metadata": {},
     "output_type": "execute_result"
    }
   ],
   "source": [
    "def at_least_5AU(planet_data):\n",
    "    #this function will return the names of all planets that are a minimum distance of 5 AU from the Sun\n",
    "    min_distance = []\n",
    "    planet_data = list(planet_data.items())\n",
    "    i=0\n",
    "    while i < len(planet_data):\n",
    "        planet, distance = planet_data[i]\n",
    "        if distance >= 5:\n",
    "            min_distance.append(planet)\n",
    "        i += 1\n",
    "    return min_distance\n",
    "        \n",
    "    \n",
    "\n",
    "at_least_5AU(planet_data)"
   ]
  },
  {
   "cell_type": "markdown",
   "id": "5e1ba0c0-5dd9-44e8-895c-73a36d614949",
   "metadata": {},
   "source": [
    "# 3 Observing Stars in a Cluster\n",
    "Your goal is to calculate the total brightness of a group of stars in a star cluster and estimate how long it would take for a telescope to observer each star, depending on their brightness (magnitude). Here is some background information:\n",
    "- The brightness of a star, from a telescope, is measured by its **apparent magnitude**, a LOWER magnitude means a brighter star. A HIGHER magnitude means a fainter star. So a 4th magnitude star is much brighter than a 17th magnitude star.\n",
    "- To convert magnitude into brightness, use the following formula\n",
    "$$\n",
    "\\text{Brightness} = 10^{-\\frac{\\text{magnitude}}{2.5}}\n",
    "$$\n",
    "\n",
    "Use this list of magnitudes and time limit:\n",
    "\n",
    "```\n",
    "magnitudes = [12.5, 13.2, 14.8, 19.1, 21.0, 18.5, 15.3, 10.5, 23.0]\n",
    "time_limit = 500\n",
    "```\n",
    "\n",
    "Expected outcome (your solutions with be the answers to the ???):\n",
    "- Total brightness of the stars: ???\n",
    "- Total observation time for all observable stars: ???\n",
    "- Number of stars that can be observed within 500 seconds: ???"
   ]
  },
  {
   "cell_type": "markdown",
   "id": "336785a7-71bf-434d-982c-dd72dd29cf71",
   "metadata": {},
   "source": [
    "## 3.1 Calculate Brightness\n",
    "1) Write a **function** which inputs a list of star magnitudes (brightnesses).\n",
    "2) Inside your function, use a `for` loop to calculate (with the given formula) the brightness of each star.\n",
    "3) Inside your function, use a `for` loop to sum up the total brightness of all the stars.\n",
    "5) Have your function return the **total brightness** of all the stars and a **list of the brightnesses** of the stars.\n",
    "6) Test out your function with the **given** magnitude values."
   ]
  },
  {
   "cell_type": "code",
   "execution_count": 39,
   "id": "ccc331f4-c029-4a82-810b-4a78d0fa1a2a",
   "metadata": {},
   "outputs": [
    {
     "data": {
      "text/plain": [
       "'individual brightnesses:[1e-05, 5.248074602497734e-06, 1.2022644346174132e-06, 2.29086765276777e-08, 3.981071705534969e-09, 3.981071705534969e-08, 7.585775750291836e-07, 6.309573444801929e-05, 6.309573444801942e-10], total brightness:8.037198248279666e-05'"
      ]
     },
     "execution_count": 39,
     "metadata": {},
     "output_type": "execute_result"
    }
   ],
   "source": [
    "magnitudes = [12.5, 13.2, 14.8, 19.1, 21.0, 18.5, 15.3, 10.5, 23.0]\n",
    "time_limit = 500\n",
    "\n",
    "def calculate_brightness(magnitudes):\n",
    "# this function will calculate the brightness of stars given their magnitudes\n",
    "    brightness = []\n",
    "    sum = 0\n",
    "    for i in magnitudes:\n",
    "        brightness_for_one_star = 10 ** (i / -2.5) #formula for brightness\n",
    "        brightness.append(brightness_for_one_star)\n",
    "        sum += brightness_for_one_star\n",
    "    return f\"individual brightnesses:{brightness}, total brightness:{sum}\"\n",
    "\n",
    "#test\n",
    "calculate_brightness(magnitudes)    "
   ]
  },
  {
   "cell_type": "markdown",
   "id": "9aff0e1c-9f88-4ebb-a05b-d39363d9e88e",
   "metadata": {},
   "source": [
    "## 3.2 Observation Time\n",
    "1) Write a **function** which inputs a list of star magnitudes (brightnesses).\n",
    "2) Inside your function, use a `for` loop to calculate the time to observe each star.\n",
    "- You can just assume each star's observation time is inversely proportional to its brightness with the following formula:\n",
    "\n",
    "$$\n",
    "\\text{Observation Time (in seconds)} \\propto \\frac{1}{\\text{Brightness}} \n",
    "$$\n",
    "\n",
    "3) Inside you function, write a `condition` that ignores stars that have a magnitude greater than 20 (very very faint stars).\n",
    "4) Have your function return the **total observation time** (ignoring >20 magnitudes) and a **list of the times** it would take to observe each individual star.\n",
    "5) Test out your function with the **given** magnitude values."
   ]
  },
  {
   "cell_type": "code",
   "execution_count": 56,
   "id": "044d17cf-82a8-44b6-8958-447632f713f6",
   "metadata": {},
   "outputs": [
    {
     "data": {
      "text/plain": [
       "'Observation times: [99999.99999999999, 190546.07179632442, 831763.7711026708, 43651583.22401666, 25118864.315095823, 1318256.7385564074, 15848.931924611143], Total observation time: 485914796.30279565'"
      ]
     },
     "execution_count": 56,
     "metadata": {},
     "output_type": "execute_result"
    }
   ],
   "source": [
    "magnitudes = [12.5, 13.2, 14.8, 19.1, 21.0, 18.5, 15.3, 10.5, 23.0]\n",
    "time_limit = 500\n",
    "\n",
    "def time_to_observe_star(magnitudes):\n",
    "    #this function returns the observation times for stars given their magnitudes\n",
    "    observation_times = []\n",
    "    total_observation_time = 0\n",
    "    for i in magnitudes:\n",
    "        if i <= 20:\n",
    "            observation_time_for_one_star = 1 / (10 ** (i / -2.5)) #forumla for observation time\n",
    "            observation_times.append(observation_time_for_one_star)\n",
    "        for time in observation_times:\n",
    "            total_observation_time += observation_time_for_one_star\n",
    "    return f\"Observation times: {observation_times}, Total observation time: {total_observation_time}\"\n",
    "        \n",
    "#test\n",
    "time_to_observe_star(magnitudes)"
   ]
  },
  {
   "cell_type": "markdown",
   "id": "102d3c15-0b4f-48a7-8fdc-f896c1841aca",
   "metadata": {},
   "source": [
    "## 3.3 Time Until the Limit\n",
    "1) Write a **function** which inputs a list of star magnitudes (brightnesses) and time limit.\n",
    "   - Make your time limit a default argument.\n",
    "2) Inside your function, make a counter called `total time` and set it to 0.\n",
    "3) Inside your function, use a `while` loop to set the time limit of your observation.\n",
    "4) Inside your function, use assigment operators to update the `total time` observed. \n",
    "5) Inside your function, use a `condition` to skip stars with magnitude 20 or greater. \n",
    "6) Have your function return the **number of stars that can be observed** within the time limit and **how long the observation will take** (this should be less than the time limit).\n",
    "7) Test out your function with the **given** magnitude values and time limit."
   ]
  },
  {
   "cell_type": "code",
   "execution_count": 29,
   "id": "5a541a62-0903-41bd-91c9-ee21172069a3",
   "metadata": {},
   "outputs": [
    {
     "data": {
      "text/plain": [
       "'Number of stars observed:14, How long the observation will take:1776089659.0646276'"
      ]
     },
     "execution_count": 29,
     "metadata": {},
     "output_type": "execute_result"
    }
   ],
   "source": [
    "def number_of_observable_stars(magnitudes, time_limit = 1000000000):\n",
    "    #this function will return the number of observable stars and the total time to observe those stars given a list of magnitudes and a time limit\n",
    "    observation_times = [] \n",
    "    total_observation_time = 0 #this is a coutner for how long observation will take\n",
    "    number_of_stars_observed = 0 #this is a counter for how many stars will be observable\n",
    "    while total_observation_time <= time_limit:\n",
    "        for i in magnitudes:\n",
    "            if i <= 20:\n",
    "                observation_time_for_one_star = 1 / (10 ** (i / -2.5))\n",
    "                observation_times.append(observation_time_for_one_star) \n",
    "                number_of_stars_observed += 1\n",
    "            for time in observation_times:\n",
    "                total_observation_time += observation_time_for_one_star\n",
    "    return f\"Number of stars observed:{number_of_stars_observed}, How long the observation will take:{total_observation_time}\"\n",
    "\n",
    "#test\n",
    "number_of_observable_stars(magnitudes)"
   ]
  },
  {
   "cell_type": "markdown",
   "id": "d2ab246f-9570-483e-b35b-cf1056f20936",
   "metadata": {},
   "source": [
    "## 3.4 Call Upon Your Functions\n",
    "You do not need to rewrite your functions once you have written them! That's what is so awesome about **functions**! \n",
    "\n",
    "1) With a new test case (different magnitudes and time limit) call your three functions you wrote above.\n",
    "2) Print out their return statements, example:\n",
    "\n",
    "```\n",
    ">>> my_return = my_function(my_argument):\n",
    ">>> print(my_return)\n",
    "```"
   ]
  },
  {
   "cell_type": "code",
   "execution_count": 51,
   "id": "4c4c9389-04f5-49bc-823c-a12d6c003b60",
   "metadata": {},
   "outputs": [
    {
     "name": "stdout",
     "output_type": "stream",
     "text": [
      "Test Case 1:\n",
      "individual brightnesses:[2.5118864315095718e-49, 0.05248074602497726, 0.19054607179632474, 0.436515832240166, 3.981071705534969e-09, 2.5118864315095823e-06, 0.9120108393559098, 0.9462371613657931, 6.30957344480193e-06, 2.0892961308540409e-07, 1e-18, 0.4405548635065533, 0.015848931924611134, 0.1], total brightness:3.0942034805848966,\n",
      " Observation times: [19.054607179632473, 5.248074602497725, 2.2908676527677727, 398107.1705534969, 1.096478196143185, 1.0568175092136585, 158489.3192461114, 4786300.923226381, 2.269864851883822, 63.09573444801933, 10.0], Total observation time: 79283485.19394538,\n",
      " Number of stars observed:11, How long the observation will take:79283485.19394538\n",
      "\n",
      "\n",
      "Test Case 2:\n",
      "individual brightnesses:[2.5118864315095718e-49, 1.584893192461111e-13, 6.30957344480193e-08, 1e-36, 3.981071705534969e-09, 2.5118864315095823e-14, 3.9810717055349854e-23, 1e-10, 1e-18, 2.5118864315095718e-36, 1e-18, 1e-10], total brightness:6.727698976373786e-08,\n",
      " Observation times: [15848931.924611142], Total observation time: 158489319.24611142,\n",
      " Number of stars observed:1, How long the observation will take:158489319.24611142\n"
     ]
    }
   ],
   "source": [
    "#test case 1\n",
    "magnitudes1 = [121.5, 3.2, 1.8, 0.9, 21.0, 14, 0.1, 0.06, 13.0, 16.7, 45, 0.89, 4.5, 2.5]\n",
    "brightness_return = calculate_brightness(magnitudes1)\n",
    "observation_time_return = time_to_observe_star(magnitudes1)\n",
    "num_of_stars_return = number_of_observable_stars(magnitudes1, time_limit = 200000)\n",
    "print(f\"Test Case 1:\\n{brightness_return},\\n {observation_time_return},\\n {num_of_stars_return}\")\n",
    "\n",
    "print(\"\\n\") #this gives a new line\n",
    "#test case 2\n",
    "magnitudes2 = [121.5, 32, 18, 90, 21.0, 34, 56, 25, 45, 89, 45, 25]\n",
    "brightness_return = calculate_brightness(magnitudes2)\n",
    "observation_time_return = time_to_observe_star(magnitudes2)\n",
    "num_of_stars_return = number_of_observable_stars(magnitudes2, time_limit = 300000)\n",
    "print(f\"Test Case 2:\\n{brightness_return},\\n {observation_time_return},\\n {num_of_stars_return}\")"
   ]
  },
  {
   "cell_type": "markdown",
   "id": "daba92d4-a646-4efc-824d-85b52ea3c573",
   "metadata": {},
   "source": [
    "# 4 Debug the Quadratic Function!\n",
    "The code below does not follow proper coding hygiene (good coding sklls) and is riddled with bugs! Answer the following question and follow the steps below:\n",
    "1) When you run the cell, what is the first error you get? What does this mean? What are three other things wrong with this function?\n",
    "    invalid decimal literal- issue with a numeric value in the code, such as a typo in a number or an illegal character\n",
    "    other issues:\n",
    "    1. undetermined string literal - print(\" is unfinished\n",
    "    2. bottom is defined twice - unecessary\n",
    "    3. postive answer == , only 1 = is needed\n",
    "    4. b is not squared within pos_answer\n",
    "    5. c was a string which cannot be used in mathematic operations\n",
    "2) Fix the bugs! No importing packages.\n",
    "3) Rewrite the code, such that it follows \"good coding skills\".\n",
    "\n",
    "Try out the test case of `a = 2`, `b = -5` and `c = 3`. You should get `(1.5, 1.0)`. Try out your own test case as well."
   ]
  },
  {
   "cell_type": "code",
   "execution_count": 53,
   "id": "cd66dd28-f8d3-447c-8d20-ff3e31bfaa07",
   "metadata": {},
   "outputs": [
    {
     "name": "stdout",
     "output_type": "stream",
     "text": [
      "test 1:\n",
      "(1.5, 1.0)\n",
      "test 2:\n",
      "(-0.6492189406417879, -3.850781059358212)\n",
      "test 3:\n",
      "(0.014256678161115843, -7.014256678161115)\n"
     ]
    }
   ],
   "source": [
    "def quadratic_formula(a, b, c):\n",
    "    #this function takes in the a,b,c values of a quadratic function and applies the quadratic formula to solve for the roots of the function\n",
    "    denominator = 2 * a #the denominator of the quadratic formula is 2a\n",
    "    pos_answer = (-b + (b**2 - 4 * a * c)**(1/2)) / denominator #this gives us our positive answer\n",
    "    neg_answer = (-b - (b**2 - 4 * a * c)**(1/2)) / denominator #this gives us our negative answer\n",
    "    return pos_answer, neg_answer #this returns both roots\n",
    "\n",
    "# test case 1\n",
    "print(\"test 1:\")\n",
    "print(quadratic_formula(2, -5, 3))\n",
    "\n",
    "# test case 2\n",
    "print(\"test 2:\")\n",
    "print(quadratic_formula(2, 9, 5))\n",
    "\n",
    "# test case 3\n",
    "print(\"test 3:\")\n",
    "print(quadratic_formula(10, 70, -1))"
   ]
  },
  {
   "cell_type": "markdown",
   "id": "8cf33b19-9bca-484e-8129-d8a4896a1bfa",
   "metadata": {},
   "source": [
    "# 5 Proper Submission\n",
    "To recieve full credit for this assignment make sure you do the following:\n",
    "1) Copy this jupter notebook from the `ulab_2024` repository into **YOUR** local `homework` branch.\n",
    "   \n",
    "3) Follow the tasks. Make sure to run all the cells so that all output is visible.\n",
    "   \n",
    "5) Push this notebook to your remote `homework6` branch. Refer to the lecture slides for more information.\n",
    "      \n",
    "6) **WARNING!! IF YOU DO NOT FOLLOW THIS STEP YOU WILL RECIEVE A ZERO!**\n",
    "   1) Take a screenshot of your command line when you `push` this notebook from your local `homework6` branch to your remote `homework6` branch. Make sure to prove that you are inside a branch besides `main` or `master` by calling `git branch` and make sure to prove that your `homework6` branch only contains the homework4 folder of Jupyter Notebook you copied over from `ulab_2024` (which can be done by calling `ls`). You could also call `git status` before/after as a way to prove you pushed the proper files to the correct branches.\n",
    "   2)  Include that screenshot in your remote branch when you upload your GitHub branch to Gradescope!"
   ]
  },
  {
   "cell_type": "code",
   "execution_count": null,
   "id": "b0926042-d1cf-4a2e-8fc8-d93395a6a7cf",
   "metadata": {},
   "outputs": [],
   "source": []
  }
 ],
 "metadata": {
  "kernelspec": {
   "display_name": "Python 3 (ipykernel)",
   "language": "python",
   "name": "python3"
  },
  "language_info": {
   "codemirror_mode": {
    "name": "ipython",
    "version": 3
   },
   "file_extension": ".py",
   "mimetype": "text/x-python",
   "name": "python",
   "nbconvert_exporter": "python",
   "pygments_lexer": "ipython3",
   "version": "3.12.4"
  }
 },
 "nbformat": 4,
 "nbformat_minor": 5
}
