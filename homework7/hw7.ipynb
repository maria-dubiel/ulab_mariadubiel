{
 "cells": [
  {
   "cell_type": "markdown",
   "id": "21a1f0d2-d75c-4443-b816-1d1db3760454",
   "metadata": {},
   "source": [
    "# HW 7 - Libraries + Modules\n",
    "ULAB - Physics and Astronomy Division \\\n",
    "Due **Wednesday, November 6th, 2024 at 11:59pm** on Gradescope\n",
    "\n",
    "--------------------------------------------------------------\n",
    "\n",
    "## Module vs. Package vs. Library\n",
    "### Module\n",
    "A **module** is a single file containing Python code (typically ending in a `.py` extension) that contains functions and variables. \n",
    "- They can be imported into other Python files or notebooks\n",
    "- You use modules to organize code into smaller, reuseable parts\n",
    "- Ex: `even_sum.py` that we created during lecture.\n",
    "\n",
    "*You will create your OWN module for this homework and use that we made during class.*\n",
    "\n",
    "### Package\n",
    "A **package** is a group of modules, organized like a directory. \n",
    "- A package requires a special `__init__.py` file to tell Python that the ENTIRE directory is something you would like to import.\n",
    "- Packages can contain sub-pacakges\n",
    "- Ex: `BAGLE_Microlensing` is an example of a package (if you are in Dex's group, this should be familar to you). Or you could think of `paarti` if you are in Brianna's group.\n",
    "\n",
    "*You will NOT be working with a package for this homework.*\n",
    "\n",
    "### Library\n",
    "A **library** is a much broader term that also refers to a collection of modules (like a package) but a library can also contain mulitple packages. \n",
    "- Libraries serve a much wider range of functionality for\n",
    "- Programmers use packages to have ready-to-go tools that can be used for data manipulation, web development, machine learning or simulations.\n",
    "- Ex: `numpy` is a very common library. Later in this course we will also be working some of the following libraries `matplotlib`, `scipy`, and `astropy`, `pandas`, etc\n",
    "\n",
    "*You WILL be working with the extensive numpy library for this homework!*\n",
    "\n",
    "--------------------------------------------------------------"
   ]
  },
  {
   "cell_type": "markdown",
   "id": "8dc7e46b-1e8e-486c-a2e9-d615c687028b",
   "metadata": {},
   "source": [
    "# 1 NumPy\n",
    "**NumPy** (aka Numerical Python) is a library that was designed for caring out computations in Python. \n",
    "\n",
    "We did not have a ton of time to work through examples during class, so I will ask that you check out this website for more information: https://numpy.org/doc/ \n",
    "\n",
    "Before we can work through any problems, you need to call the following in your notebook:"
   ]
  },
  {
   "cell_type": "code",
   "execution_count": 24,
   "id": "08dabd73-3dbc-4aab-843a-d4b81102835d",
   "metadata": {},
   "outputs": [],
   "source": [
    "import numpy as np"
   ]
  },
  {
   "cell_type": "markdown",
   "id": "92c77920-20fc-455e-bf52-10b5a518ed2d",
   "metadata": {},
   "source": [
    "## 1.1 Lists vs. Arrays\n",
    "*When I first started working with NumPy I didn't understand what was so special about arrays. This homework problem should help illustrate the difference. Make sure to follow each step and follow good coding practices.*\n",
    "\n",
    "1) Make a list called `my_list` and make an array called `my_arr` with the same values. There is an example below, but don't copy mine! Ex:\n",
    "```\n",
    "my_list = [11, 12, 13, 14, 15]\n",
    "my_arr = np.array([11, 12, 13, 14, 15])\n",
    "```\n",
    "*Notice that to use the `numpy` package we had to call its short cut `np` and then call upon its funciton `.array()`. This is similar to working with a built-in python function like `.append()`.*"
   ]
  },
  {
   "cell_type": "code",
   "execution_count": 4,
   "id": "494f31ac-a231-4f65-b202-e85208d6bee4",
   "metadata": {},
   "outputs": [],
   "source": [
    "my_list = [10, 20, 30, 40, 50]\n",
    "my_arr = np.array([10, 20, 30, 40, 50])"
   ]
  },
  {
   "cell_type": "markdown",
   "id": "861d42c4-411e-4ef9-b85c-68e1f61c4fcb",
   "metadata": {},
   "source": [
    "2) Multiply `my_list` by 4 and multiply `my_arr` by 4. Print the results. Describe what happens in a comment."
   ]
  },
  {
   "cell_type": "code",
   "execution_count": 9,
   "id": "79245f57-3a83-4300-96d2-ea7a9035d3eb",
   "metadata": {},
   "outputs": [
    {
     "name": "stdout",
     "output_type": "stream",
     "text": [
      "[10, 20, 30, 40, 50, 10, 20, 30, 40, 50, 10, 20, 30, 40, 50, 10, 20, 30, 40, 50]\n",
      "[ 40  80 120 160 200]\n"
     ]
    }
   ],
   "source": [
    "print(my_list * 4)\n",
    "print(my_arr * 4)\n",
    "\n",
    "#multiplying the list by 4 returns a list which just repreats the original list 4 times\n",
    "#multiplying the array by 4 returns the values in the array multiplied by 4"
   ]
  },
  {
   "cell_type": "markdown",
   "id": "aa2dc2fb-7a26-42e8-90db-18d1598f4d7c",
   "metadata": {},
   "source": [
    "3) Add `my_list` with `my_list`. Add `my_arr` with `my_arr`. Add `my_list` with `my_arr`. Print the results. Describe what happens in a comment."
   ]
  },
  {
   "cell_type": "code",
   "execution_count": 15,
   "id": "9f18f22e-3137-4aa9-b623-6d2c0caec4c3",
   "metadata": {},
   "outputs": [
    {
     "name": "stdout",
     "output_type": "stream",
     "text": [
      "[10, 20, 30, 40, 50, 10, 20, 30, 40, 50]\n",
      "[ 20  40  60  80 100]\n",
      "[ 20  40  60  80 100]\n"
     ]
    }
   ],
   "source": [
    "print(my_list + my_list) #returns the same list appended onto the first list\n",
    "print(my_arr + my_arr) #returns the values with the same indexes added together, ex: 40 + 40 = 80\n",
    "print(my_list + my_arr) #also returns the values with the same indexes added together"
   ]
  },
  {
   "cell_type": "markdown",
   "id": "3be18720-756f-43d1-bad7-bd85e138ef7e",
   "metadata": {},
   "source": [
    "4) Subtract `my_list` with `my_list`. Subtract `my_arr` with `my_arr`. Subtract `my_list` with `my_arr`. Print the results. Describe what happens in a comment."
   ]
  },
  {
   "cell_type": "code",
   "execution_count": 27,
   "id": "131b09c8-d352-4566-b710-31316483ae89",
   "metadata": {},
   "outputs": [
    {
     "name": "stdout",
     "output_type": "stream",
     "text": [
      "[0, 0, 0, 0, 0]\n",
      "[0 0 0 0 0]\n",
      "[0 0 0 0 0]\n"
     ]
    }
   ],
   "source": [
    "#print(my_list - my_list) - this returns an error, cannot subtract using a - operator\n",
    "difference = [x - y for x, y in zip(my_list, my_list)]\n",
    "print(difference) #this returns each value subtracted from the corresponding value\n",
    "\n",
    "print(my_arr - my_arr) #subtracts each value from the value with the correspoding index in the other array\n",
    "print(my_list - my_arr) #subtracts each value from the value with the correspoding index in the array"
   ]
  },
  {
   "cell_type": "markdown",
   "id": "9089eff6-4251-4a52-b263-c77b11343ece",
   "metadata": {},
   "source": [
    "5) Multiply `my_list` with `my_list`. Multply `my_arr` with `my_arr`. Multiply `my_list` with `my_arr`. Print the results. Describe what happens in a comment."
   ]
  },
  {
   "cell_type": "code",
   "execution_count": 31,
   "id": "cae7749f-cc6e-45d6-9e07-72aa2cefc0b6",
   "metadata": {},
   "outputs": [
    {
     "name": "stdout",
     "output_type": "stream",
     "text": [
      "[100, 400, 900, 1600, 2500]\n",
      "[ 100  400  900 1600 2500]\n",
      "[ 100  400  900 1600 2500]\n"
     ]
    }
   ],
   "source": [
    "# print(my_list * my_list) - this returns an error, cannot multiply lists directly\n",
    "product = [x * y for x, y in zip(my_list, my_list)]\n",
    "print(product) #this returns each component in the list multiplied by a component in the other my_list\n",
    "\n",
    "print(my_arr * my_arr) #multiplies each component by the component with the corresponding index in the other array\n",
    "print(my_list * my_arr) #multiplies each component by the component with the corresponding index in the other array"
   ]
  },
  {
   "cell_type": "markdown",
   "id": "55175f6e-e6b2-41b1-8015-5f1b099664e8",
   "metadata": {},
   "source": [
    "7) Divide `my_list` with `my_list`. Divide `my_arr` with `my_arr`. Divide `my_list` with `my_arr`. Print the results. Describe what happens in a comment."
   ]
  },
  {
   "cell_type": "code",
   "execution_count": 39,
   "id": "ccdc8e13-ec41-4b79-8034-0934c012580e",
   "metadata": {},
   "outputs": [
    {
     "name": "stdout",
     "output_type": "stream",
     "text": [
      "[1.0, 1.0, 1.0, 1.0, 1.0]\n",
      "[1. 1. 1. 1. 1.]\n",
      "[1. 1. 1. 1. 1.]\n"
     ]
    }
   ],
   "source": [
    "#print(my_list / my_list) - returns an error, cannot directly divide two lists\n",
    "quotient = [x / y for x, y in zip(my_list, my_list)]\n",
    "print(quotient) #this returns each component in the list divided by a component in the other my_list as floats with a zero afer the decimal\n",
    "\n",
    "print(my_arr / my_arr) #divides each component by the component with the corresponding index in the other array, returns quotients as floats with no zero afer the decimal\n",
    "print(my_list / my_arr) #divides each component by the component with the corresponding index in the array, returns quotients as floats with no zero afer the decimal"
   ]
  },
  {
   "cell_type": "markdown",
   "id": "1fb261e6-b99b-4e36-953a-e899da010469",
   "metadata": {},
   "source": [
    "8) After working through this problem, in at least two sentences, describe the difference between a list and an array."
   ]
  },
  {
   "cell_type": "code",
   "execution_count": 33,
   "id": "d702ddad-c84d-43d5-9fe0-d10b9083bf85",
   "metadata": {},
   "outputs": [],
   "source": [
    "#You cannot apply most mathematical operations directly to a list, except for + but this appends one lsit to the end of the other, it doesn't actually add the components.\n",
    "#On the other hand, arrays can have mathematical operations applied directly to them and the operations will be performed on the components of the array itself."
   ]
  },
  {
   "cell_type": "markdown",
   "id": "fdbccced-d3f0-4948-be6e-471028979576",
   "metadata": {},
   "source": [
    "## 1.2 Nested List and Multi-Dimensional Arrays\n",
    "A **nested list** is when you have a list as an element for a list. Example:\n",
    "```\n",
    "nested_list = [[1, 2, 3], [4, 5, 6]]\n",
    "```\n",
    "\n",
    "A **multi-dimensional array** is essentially a nested list, but it contains the properties of a matrix. Example:\n",
    "```\n",
    "multi_d_array = np.array([[1, 2, 3], [4, 5, 6]])\n",
    "```\n",
    "\n",
    "Go to this website for more information on NumPy: https://www.w3schools.com/python/numpy/default.asp\n",
    "\n",
    "Write a **function** that takes in a two-dimensional array. Example:\n",
    "\n",
    "```\n",
    "arr3 = np.array([[2, 4, 6], [8, 10, 12], [14, 16, 18]])\n",
    "```\n",
    "\n",
    "and then returns the second value in each row. Example:\n",
    "\n",
    "```\n",
    "[4, 10, 16]\n",
    "```"
   ]
  },
  {
   "cell_type": "code",
   "execution_count": 229,
   "id": "e6d45993-2390-4e2d-bb6e-930919dd7d46",
   "metadata": {},
   "outputs": [
    {
     "name": "stdout",
     "output_type": "stream",
     "text": [
      "[2, 5, 8]\n"
     ]
    }
   ],
   "source": [
    "def second_value_from_each_row(arr):\n",
    "    #this function returns the second  value in each row\n",
    "    second_values = [row[1] for row in arr]\n",
    "    print(second_values)\n",
    "\n",
    "#test case 1\n",
    "arr1 = np.array([[1, 2, 3], [4, 5, 6], [7, 8, 9]])\n",
    "second_value_from_each_row(arr1)"
   ]
  },
  {
   "cell_type": "markdown",
   "id": "e5c0700d-def9-4afe-86f5-0a4b8862c0b4",
   "metadata": {},
   "source": [
    "In 2-3 sentences, describe what section of the website helped you write your function. "
   ]
  },
  {
   "cell_type": "code",
   "execution_count": null,
   "id": "179c2c8d-3493-40a5-931f-7a92be8551a6",
   "metadata": {},
   "outputs": [],
   "source": [
    "# I looked at the NumPy Array Indexing section, specifically accessing 2-D arrays. \n",
    "#I also did some additional research to figure out how to apply the method they showed to multiple rows, not jsut a specific one"
   ]
  },
  {
   "cell_type": "markdown",
   "id": "2bee5ead-232c-495c-8e42-1721bd315957",
   "metadata": {},
   "source": [
    "How would you take a nested list and return the second value in each row? Explain in 2-3 sentences and show an example."
   ]
  },
  {
   "cell_type": "markdown",
   "id": "25eaeadc-b09d-4ca8-9849-822879abdad2",
   "metadata": {},
   "source": [
    "## 1.3 Up to You!\n",
    "With the website I just gave you: https://www.w3schools.com/python/numpy/default.asp\n",
    "\n",
    "I recommend working through the examples they provide (you don't have to do all of them, but a few would be good). It will help you build an intuition for numpy. It won't take very long, there are only a couple of examples per section.\n",
    "\n",
    "Write you own **function** that follows the theme of one of the sections (i.e. array reshaping, array filter, random intro, etc). For example, if you are curious about the section \"**NumPy Creating Arrays**\" you could write a function that creates a multi-dimensional array.\n",
    "\n",
    "```\n",
    "\n",
    ">>> def make_multi_dimensional_array(one_d_array, dimensions):\n",
    "...     # Creates a multi-dimensional array\n",
    "...     # Your code here\n",
    "...     return # Your code here\n",
    "\n",
    ">>> my_one_d_array = [2, 4, 6, 8]\n",
    ">>> my_dimension = 10\n",
    ">>> ten_d_array = make_multi_dimensional_array(my_one_d_array, my_dimension)\n",
    ">>> print(ten_d_array)\n",
    "[[[[[[[[[[2 4 6 8]]]]]]]]]]\n",
    "\n",
    "```\n",
    "\n",
    "Your function should be more detailed than the example I gave you. Include at least one of the following: \n",
    "- a conditional statement\n",
    "- an assignment operator\n",
    "- a loop (`for` or `while`)\n",
    "- `if`, `elif`, `else`, statement"
   ]
  },
  {
   "cell_type": "code",
   "execution_count": 237,
   "id": "359f524a-30ee-446c-a6d6-a57faecf5bcb",
   "metadata": {},
   "outputs": [
    {
     "name": "stdout",
     "output_type": "stream",
     "text": [
      "-1 is less than 6\n",
      "2 is less than 6\n",
      "-3 is less than 6\n",
      "4 is less than 6\n",
      "-5 is less than 6\n",
      "6\n",
      "77\n",
      "80\n",
      "99\n",
      "wow that's a big number!\n",
      "wow that's a big number!\n",
      "wow that's a big number!\n"
     ]
    }
   ],
   "source": [
    "#Iterating Arrays\n",
    "arr2 = np.array([-1, 2, -3, 4, -5, 6, 77, 80, 99, 100, 111, 120])\n",
    "def less_than_6_add100_orbiggerthan100(arr):\n",
    "    #this function will either tell us that a number is less than 6, add 100 to the number if the number is between 6 and 100, or tell us that it is a very large number\n",
    "    for i in arr:\n",
    "        if i <6:\n",
    "            print(f\"{i} is less than 6\")\n",
    "        elif 6 <= i < 100:\n",
    "            print(i)\n",
    "        else:\n",
    "            print(\"wow that's a big number!\")\n",
    "\n",
    "less_than_6_add100_orbiggerthan100(arr2)\n",
    "#change so it actually makes sense"
   ]
  },
  {
   "cell_type": "markdown",
   "id": "88df7c51-0196-42b5-aabf-5068bc6ad675",
   "metadata": {},
   "source": [
    "In the section you took inspiration from, show all of the examples below. Follow good coding practices and give at least two test cases for each example. Don't forget comments! \\\n",
    "\\\n",
    "*For my example, I took inspiration from **NumPy Creating Arrays** so I would show following examples with DIFFERENT test cases: Create a NumPy ndarray Object, Dimensions in Arrays ,0-D Arrays, 1-D Arrays, 2-D Arrays, 3-D Arrays, Check Number of Dimensions, Higher Dimensional Arrays.*"
   ]
  },
  {
   "cell_type": "code",
   "execution_count": 235,
   "id": "193b91b8-de1d-4aee-af90-6a0e10930b55",
   "metadata": {},
   "outputs": [
    {
     "name": "stdout",
     "output_type": "stream",
     "text": [
      "0\n",
      "2\n",
      "4\n",
      "10\n",
      "25\n",
      "7\n",
      "[1 2 3]\n",
      "[4 5 6]\n",
      "[10 20 30]\n",
      "[40 50 60]\n",
      "[[1 2 3]\n",
      " [4 5 6]]\n",
      "[[ 7  8  9]\n",
      " [10 11 12]]\n",
      "[[10 20 30]\n",
      " [40 50 60]]\n",
      "[[ 70  80  90]\n",
      " [100 110 120]]\n",
      "1\n",
      "2\n",
      "31\n",
      "4\n",
      "13\n",
      "6\n",
      "7\n",
      "8\n",
      "90\n",
      "10\n",
      "11\n",
      "12\n",
      "10\n",
      "21\n",
      "30\n",
      "40\n",
      "56\n",
      "60\n",
      "77\n",
      "80\n",
      "90\n",
      "101\n",
      "110\n",
      "120\n",
      "b'1'\n",
      "b'14'\n",
      "b'6'\n",
      "b'6'\n",
      "b'2'\n",
      "b'8'\n",
      "11\n",
      "13\n",
      "14\n",
      "16\n",
      "11\n",
      "31\n",
      "41\n",
      "61\n",
      "(0,) 11\n",
      "(1,) 22\n",
      "(2,) 33\n",
      "(0, 0) 17\n",
      "(0, 1) 27\n",
      "(0, 2) 37\n",
      "(1, 0) 47\n",
      "(1, 1) 517\n",
      "(1, 2) 67\n"
     ]
    }
   ],
   "source": [
    "#I took inspiration from NumPy Iterating Arrays\n",
    "#Example 1 - iterating on the elements of a 1-D array\n",
    "def iterating_on_1Darray(arr):\n",
    "    #this functions prints all elements of the array\n",
    "    for x in arr:\n",
    "        print(x)\n",
    "\n",
    "#testcase1\n",
    "arr_1 = np.array([0, 2, 4])\n",
    "iterating_on_1Darray(arr_1)\n",
    "\n",
    "#testcase2\n",
    "arr_01 = np.array([10, 25, 7])\n",
    "iterating_on_1Darray(arr_01)\n",
    "\n",
    "#EX2: Iterating on 2D arrays\n",
    "def iterating_on_2Darray(arr):\n",
    "    for x in arr:\n",
    "        print(x)\n",
    "\n",
    "#testcase1\n",
    "arr_2 = np.array([[1, 2, 3], [4, 5, 6]])\n",
    "iterating_on_2Darray(arr_2)\n",
    "\n",
    "#testcase2\n",
    "arr_02 = np.array([[10, 20, 30], [40, 50, 60]])\n",
    "iterating_on_2Darray(arr_02)\n",
    "\n",
    "#EX3:Iterating 3-D Arrays\n",
    "def iterating_on_3Darray(arr):\n",
    "    for x in arr:\n",
    "        print(x)\n",
    "\n",
    "#testcase1\n",
    "arr_3 = np.array([[[1, 2, 3], [4, 5, 6]], [[7, 8, 9], [10, 11, 12]]])\n",
    "iterating_on_3Darray(arr_3)\n",
    "\n",
    "#testcase2\n",
    "arr_03 = np.array([[[10, 20, 30], [40, 50, 60]], [[70, 80, 90], [100, 110, 120]]])\n",
    "iterating_on_3Darray(arr_03)\n",
    "\n",
    "#Ex4: Iterating arrays using nditer\n",
    "def iterate_using_nditer(arr):\n",
    "   for x in np.nditer(arr):\n",
    "       print(x)\n",
    "\n",
    "#testcase1\n",
    "arr_4 = np.array([[[1, 2, 31], [4, 13, 6]], [[7, 8, 90], [10, 11, 12]]])\n",
    "iterate_using_nditer(arr_4)\n",
    "\n",
    "#testcase2\n",
    "arr_04 = np.array([[[10, 21, 30], [40, 56, 60]], [[77, 80, 90], [101, 110, 120]]])\n",
    "iterate_using_nditer(arr_04)\n",
    "\n",
    "#EX5: Iterating Array With Different Data Types\n",
    "def changing_datatype_while_iterating(arr):\n",
    "    #this function will change the data in the array into string data when iterating through the array\n",
    "    for x in np.nditer(arr, flags=['buffered'], op_dtypes=['S']):\n",
    "        print(x)\n",
    "\n",
    "#testcase1\n",
    "arr_5 = np.array([1, 14, 6])\n",
    "changing_datatype_while_iterating(arr_5)\n",
    "\n",
    "#testcase2\n",
    "arr_05 = np.array([6, 2, 8])\n",
    "changing_datatype_while_iterating(arr_05)\n",
    "\n",
    "#EX6: Iterating with different step size\n",
    "def iterate_skipping_1_element(arr):\n",
    "    #this fucntion iterates through the array, skipping 1 element\n",
    "    for x in np.nditer(arr[:, ::2]):\n",
    "        print(x)\n",
    "\n",
    "#test case 1\n",
    "arr_6 = np.array([[11, 12, 13], [14, 15, 16]])\n",
    "iterate_skipping_1_element(arr_6)\n",
    "\n",
    "#test case 2\n",
    "arr_06 = np.array([[11, 21, 31], [41, 51, 61]])\n",
    "iterate_skipping_1_element(arr_06)\n",
    "\n",
    "#EX7: Enumerated Iteration Using ndenumerate()\n",
    "def enumerate(arr):\n",
    "    #provides us with the index of the data point as well as the data point\n",
    "    for idx, x in np.ndenumerate(arr):\n",
    "        print(idx, x)\n",
    "\n",
    "#test case 1\n",
    "arr_7 = np.array([11, 22, 33])\n",
    "enumerate(arr_7)\n",
    "\n",
    "#test case 2\n",
    "arr_07 = np.array([[17, 27, 37], [47, 517, 67]])\n",
    "enumerate(arr_07)"
   ]
  },
  {
   "cell_type": "markdown",
   "id": "c90148dc-cac4-4322-86ff-5b112bae306f",
   "metadata": {},
   "source": [
    "In 2-3 sentences, describe how your function took inspiration from a section.\\\n",
    "\\\n",
    "*For my example, `make_multi_dimensional_array`, I would talk about the **NumPy Creating Arrays** section and how I took inspiration from the example **Higher Dimensional Arrays**.*"
   ]
  },
  {
   "cell_type": "code",
   "execution_count": 37,
   "id": "fe11ac2d-dcdb-4e51-9460-c3cc1be48bef",
   "metadata": {},
   "outputs": [],
   "source": [
    "#I took inspiration from this section because I wanted to iterate through my array and only print certain values.\n",
    "#"
   ]
  },
  {
   "cell_type": "markdown",
   "id": "8a834fd4-ef1b-4464-a07a-76e08a1c81c8",
   "metadata": {},
   "source": [
    "# 2 Brianna's Module\n",
    "During lecture we created and worked with a module called `even_sum.py`. Import that module here. "
   ]
  },
  {
   "cell_type": "code",
   "execution_count": 10,
   "id": "66e2a829-e478-4c97-8412-846cd93161f8",
   "metadata": {},
   "outputs": [],
   "source": [
    "import even_sum as es"
   ]
  },
  {
   "cell_type": "markdown",
   "id": "210ee2c2-9b81-4ea4-bbe7-2d1fa94d646e",
   "metadata": {},
   "source": [
    "Now that you have imported the module. Call the module and the first function with your own list of numbers. "
   ]
  },
  {
   "cell_type": "code",
   "execution_count": 14,
   "id": "89ad196d-5948-4e20-899a-d31eebdc4f2a",
   "metadata": {},
   "outputs": [
    {
     "data": {
      "text/plain": [
       "220"
      ]
     },
     "execution_count": 14,
     "metadata": {},
     "output_type": "execute_result"
    }
   ],
   "source": [
    "list_1 = [11, 22, 33, 44, 55, 66, 77, 88, 99]\n",
    "es.sum_even_numbers(list_1)"
   ]
  },
  {
   "cell_type": "markdown",
   "id": "110d3cb8-b809-467b-9447-57810e4e3853",
   "metadata": {},
   "source": [
    "I have provided you a separate module called `example.py`. Import that module here."
   ]
  },
  {
   "cell_type": "code",
   "execution_count": 241,
   "id": "092eb2b9-dd15-4fdf-a7a2-ad32cd22ed88",
   "metadata": {},
   "outputs": [],
   "source": [
    "import example as ex"
   ]
  },
  {
   "cell_type": "markdown",
   "id": "a6922f89-01e7-41af-82e2-4236daa103b1",
   "metadata": {},
   "source": [
    "With the following variables, use my module to show which of the rocket's escape!"
   ]
  },
  {
   "cell_type": "code",
   "execution_count": 244,
   "id": "6b2e8b39-8441-469a-a128-19b04b8c8a2f",
   "metadata": {},
   "outputs": [],
   "source": [
    "rocket_velocities = np.array([\n",
    "    [1000, 5000, 8000, 12000],  # Rocket 1's velocity at different times\n",
    "    [2000, 6000, 9000, 10000],  # Rocket 2\n",
    "    [3000, 3100, 3200, 3300]    # Rocket 3\n",
    "])\n",
    "\n",
    "mass_of_planet = 5.972e24 # kilograms\n",
    "radius_of_planet = 6.371e6 # meters"
   ]
  },
  {
   "cell_type": "code",
   "execution_count": 246,
   "id": "05196d65-9e31-4cec-ad01-9f9cebe00046",
   "metadata": {},
   "outputs": [
    {
     "data": {
      "text/plain": [
       "['Rocket left the planet!',\n",
       " 'Rocket is orbiting around the planet.',\n",
       " 'Rocket crashes back into the planet!']"
      ]
     },
     "execution_count": 246,
     "metadata": {},
     "output_type": "execute_result"
    }
   ],
   "source": [
    "ex.escape_velocity(mass_of_planet, radius_of_planet) #this function calculates escape velocity\n",
    "ex.orbital_velocity(mass_of_planet, radius_of_planet) #this function calculates orbital velocity\n",
    "\n",
    "ex.rocket_launch(rocket_velocities, mass_of_planet, radius_of_planet) #this function determines how well the rocket launch will go"
   ]
  },
  {
   "cell_type": "markdown",
   "id": "9ab3de38-dbd9-438f-a587-67e8777c9c93",
   "metadata": {},
   "source": [
    "In 2-3 sentences describe how this code follows \"good coding practices\" and where there is room for improvement."
   ]
  },
  {
   "cell_type": "code",
   "execution_count": 248,
   "id": "94d49892-e1c0-4e6a-b05d-f9ddf3de4b44",
   "metadata": {},
   "outputs": [],
   "source": [
    "#All of the functions have very clear naming and there are comments explaining exactly what each fucntion does.\n",
    "#However, in the returns of the rocket.launch fucntion could be improved. It is unclear which rocket has which path, so dialogue could be changed to reflect that."
   ]
  },
  {
   "cell_type": "markdown",
   "id": "2dce5617-a86a-4327-aa99-f29548f3b92c",
   "metadata": {},
   "source": [
    "# 3 Your Turn!\n",
    "Now its your turn to make a module! Choose a topic from a class (could be physics, computer science, nuclear engineering, biology, astronomy, math, or an topic that interests you!) and build a module around it! Look at my module called `example.py` and base your structure around it. Your module NEEDS to include the following.\n",
    "\n",
    "Overall:\n",
    "1) Your module needs to use at least one NumPy function: https://numpy.org/devdocs/reference/routines.math.html\n",
    "2) Your module needs to contain a multi-dimensional array: https://numpy.org/devdocs/reference/arrays.ndarray.html \n",
    "3) Your module needs **at least** three functions that follow good coding practices.\n",
    "4) Inside your function, include comments. Don't forget to describe what the function is doing and what the inputs and outputs are.\n",
    "5) Your module needs either a `for` loop or `while` loop.\n",
    "6) Your module needs an `if`, `elif`, and `else` statement.\n",
    "7) Your module needs at least two assignment variables (`+=`, `*=`, etc).\n",
    "8) Creativity. *If it looks like you plugged this whole thing into ChatGPT, I will take off points. You can use ChatGPT to help you code, but you can't use it to just do your homework for you. That's no fun :(*\n",
    "\n",
    "In 2-3 sentences, describe the topic of your module and its capabilities. "
   ]
  },
  {
   "cell_type": "code",
   "execution_count": null,
   "id": "0db7310e-b286-4ce7-aa0b-c211e243b7d6",
   "metadata": {},
   "outputs": [],
   "source": [
    "#My module focuses on determining whether or not a planets are in the habitable zone of a star.\n",
    "#My module includes fucntions to calculate absolute visual magnitude, bolometric magnitude, absolute lumnosity, the inner and outer boundaries of the habitable zone, and finally determines if planets are inside the habitable zone. \n",
    "#It is capable of taking in multidimensional arrays. I designed it in this way so that it could take in multiple measurements for a singular planet "
   ]
  },
  {
   "cell_type": "markdown",
   "id": "f9ec7fbd-1d6d-4c08-8528-e9cdaa7e3f6b",
   "metadata": {},
   "source": [
    "In 2-3 sentences, answer the following. What was the most challenging part of building this module? What did you learn in the process that you can apply to future coding assignments?"
   ]
  },
  {
   "cell_type": "code",
   "execution_count": 30,
   "id": "19898c20-2adb-4011-b95e-1da864f7801a",
   "metadata": {},
   "outputs": [],
   "source": [
    "#The most challenging part of this module was figuring out how to handle multidimensional arrays. At first I took a slightly different approach to what my multidimensional array represent, having each inner array represent a set of planets at similar extremes away from the star. From this I learned how to write a function which can process values from each row of an array. \n",
    "#I also learned how to apply numpy functions like np.mean which will probably be helpful for future coding assignments involving mathmatical operations."
   ]
  },
  {
   "cell_type": "markdown",
   "id": "85e943ab-1036-46bc-b9fb-da4ab1890816",
   "metadata": {},
   "source": [
    "Once your module is complete, import it here."
   ]
  },
  {
   "cell_type": "code",
   "execution_count": 317,
   "id": "89a078d9-ef3f-4fac-b40b-9db5989eef0c",
   "metadata": {},
   "outputs": [],
   "source": [
    "import habitable_zone as hz\n",
    "import numpy as np"
   ]
  },
  {
   "cell_type": "code",
   "execution_count": 319,
   "id": "2b7b60fb-65a8-4dc4-aef8-c0881f39096f",
   "metadata": {},
   "outputs": [
    {
     "data": {
      "text/plain": [
       "<module 'habitable_zone' from 'C:\\\\Users\\\\jacek\\\\ulab\\\\ulab_mariadubiel\\\\homework7\\\\habitable_zone.py'>"
      ]
     },
     "execution_count": 319,
     "metadata": {},
     "output_type": "execute_result"
    }
   ],
   "source": [
    "import importlib\n",
    "importlib.reload(hz)"
   ]
  },
  {
   "cell_type": "markdown",
   "id": "ac42ebd4-e51b-4be4-aaa7-6c7d550abd30",
   "metadata": {},
   "source": [
    "Call each of your functions in the cell below. Make sure to show the outputs! "
   ]
  },
  {
   "cell_type": "code",
   "execution_count": 322,
   "id": "a31cba45-e301-4186-8228-c2e36e233cea",
   "metadata": {},
   "outputs": [],
   "source": [
    "star1_apparent_magnitude = -1.46\n",
    "star1_distance = 2.64 #in parsecs\n",
    "star1_planet_distances = np.array([\n",
    "    [66, 60, 69, 70], #planet 1 measurements\n",
    "    [0.9, 0.87, 0.85, 0.89], #planet 2 measurements\n",
    "    [2, 2.1, 1.9, 2.3], #planet 3 measurements\n",
    "    [4, 4.2, 4.1, 4.7], #planet 4 measurements\n",
    "    [5, 4.6, 7.6, 3.9], #planet 5 measurments\n",
    "    [20, 21, 22.3, 21.3]]) #planet 6 measurements\n",
    "star1_bolometric_correction_constant = -0.3"
   ]
  },
  {
   "cell_type": "code",
   "execution_count": 324,
   "id": "684a89b3-dde6-4a22-8fd3-1cdf43d08501",
   "metadata": {},
   "outputs": [
    {
     "data": {
      "text/plain": [
       "1.431980365650845"
      ]
     },
     "execution_count": 324,
     "metadata": {},
     "output_type": "execute_result"
    }
   ],
   "source": [
    "hz.absolute_visual_magnitude(star1_apparent_magnitude, star1_distance)"
   ]
  },
  {
   "cell_type": "code",
   "execution_count": 326,
   "id": "b63d3d1f-64bd-4dc7-b20f-c562d09c7c92",
   "metadata": {},
   "outputs": [
    {
     "data": {
      "text/plain": [
       "1.131980365650845"
      ]
     },
     "execution_count": 326,
     "metadata": {},
     "output_type": "execute_result"
    }
   ],
   "source": [
    "hz.bolometric_magnitude(1.431980365650845, star1_bolometric_correction_constant)"
   ]
  },
  {
   "cell_type": "code",
   "execution_count": 328,
   "id": "fd2098bb-91a4-4df2-a91c-a2fd28660cc7",
   "metadata": {},
   "outputs": [
    {
     "data": {
      "text/plain": [
       "14.352078537396618"
      ]
     },
     "execution_count": 328,
     "metadata": {},
     "output_type": "execute_result"
    }
   ],
   "source": [
    "hz.calculate_abs_luminosity(1.131980365650845)"
   ]
  },
  {
   "cell_type": "code",
   "execution_count": 330,
   "id": "b6e4add8-9308-4e77-98a6-319a46d2813f",
   "metadata": {},
   "outputs": [
    {
     "data": {
      "text/plain": [
       "3.6121107575635074"
      ]
     },
     "execution_count": 330,
     "metadata": {},
     "output_type": "execute_result"
    }
   ],
   "source": [
    "hz.inner_boundary(14.352078537396618)"
   ]
  },
  {
   "cell_type": "code",
   "execution_count": 332,
   "id": "2fd93bee-400e-4982-a062-4a9b3c087d8f",
   "metadata": {},
   "outputs": [
    {
     "data": {
      "text/plain": [
       "5.203786454764076"
      ]
     },
     "execution_count": 332,
     "metadata": {},
     "output_type": "execute_result"
    }
   ],
   "source": [
    "hz.outer_boundary(14.352078537396618)"
   ]
  },
  {
   "cell_type": "code",
   "execution_count": 334,
   "id": "008e714a-81a5-4c21-b29f-e685eaa8ba3f",
   "metadata": {},
   "outputs": [
    {
     "name": "stdout",
     "output_type": "stream",
     "text": [
      "Planet is too far!\n",
      "Planet is too close!\n",
      "Planet is too close!\n",
      "Planet is in habitable zone!!\n",
      "Planet is too far!\n",
      "Planet is too far!\n"
     ]
    },
    {
     "data": {
      "text/plain": [
       "'Number of planets in habitable zone:1, Number of planets outside habitable zone:5'"
      ]
     },
     "execution_count": 334,
     "metadata": {},
     "output_type": "execute_result"
    }
   ],
   "source": [
    "hz.is_it_in_habitable_zone(star1_planet_distances, 3.6121107575635074, 5.203786454764076)"
   ]
  },
  {
   "cell_type": "markdown",
   "id": "8cf33b19-9bca-484e-8129-d8a4896a1bfa",
   "metadata": {},
   "source": [
    "# 4 Proper Submission\n",
    "To recieve full credit for this assignment make sure you do the following:\n",
    "\n",
    "1) Copy this homework assignment from the `ulab_2024` repository into **YOUR** local `homework7` branch. It will contain this notebook and an additional file called `example.py`. \n",
    "   \n",
    "2) Follow the tasks. Make sure to run all the cells so that **all** output is visible. You will get points taken off if your ouputs are not shown!\n",
    "\n",
    "3) Add/commit/push this notebook and **ANY** modules (so you should have `example.py` and your module) used in this homework assignment to your remote `homework7` branch. Make sure to have NOTHING else in your branch (i.e. no previous homeworks or lecture notes).\n",
    "\n",
    "4) Do the following:\n",
    "- Take a screenshot of moving **into or out** of your `homework7` brach, call it `hw7_branch`.\n",
    "- Take a screenshot of calling `ls` in your `homework7` branch, it should only contain items relevent to homework 7, call it `hw7_ls`.\n",
    "- Take a screenshot of adding this assignment to your local `homework7` branch, call it `hw7_add`.\n",
    "- Take a screenshot of committing this assignment to your local `homework7` branch, call it `hw7_commit`.\n",
    "- Take a screenshot of pushing this assignment to your remote `homework7` branch, call it `hw7_push`. \n",
    "\n",
    "6) Include these screenshots in your `homework7` branch. Upload your `homework7` branch to Gradescope!"
   ]
  },
  {
   "cell_type": "code",
   "execution_count": null,
   "id": "8e6c6a5f-717d-4cea-99c1-48c76f3488b9",
   "metadata": {},
   "outputs": [],
   "source": []
  }
 ],
 "metadata": {
  "kernelspec": {
   "display_name": "Python 3 (ipykernel)",
   "language": "python",
   "name": "python3"
  },
  "language_info": {
   "codemirror_mode": {
    "name": "ipython",
    "version": 3
   },
   "file_extension": ".py",
   "mimetype": "text/x-python",
   "name": "python",
   "nbconvert_exporter": "python",
   "pygments_lexer": "ipython3",
   "version": "3.12.4"
  }
 },
 "nbformat": 4,
 "nbformat_minor": 5
}
